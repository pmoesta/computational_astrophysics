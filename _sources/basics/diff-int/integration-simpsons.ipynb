{
 "cells": [
  {
   "cell_type": "markdown",
   "id": "fe260134-6c60-433e-9485-805cbfbaa9e4",
   "metadata": {},
   "source": [
    "# Simpson's Rule Derived"
   ]
  },
  {
   "cell_type": "code",
   "execution_count": 2,
   "id": "e90e5122-ce4f-4021-86ca-b7660b3874f6",
   "metadata": {},
   "outputs": [
    {
     "name": "stdout",
     "output_type": "stream",
     "text": [
      "IPython console for SymPy 1.10.1 (Python 3.10.9-64-bit) (ground types: gmpy)\n",
      "\n",
      "These commands were executed:\n",
      ">>> from sympy import *\n",
      ">>> x, y, z, t = symbols('x y z t')\n",
      ">>> k, m, n = symbols('k m n', integer=True)\n",
      ">>> f, g, h = symbols('f g h', cls=Function)\n",
      ">>> init_printing()\n",
      "\n",
      "Documentation can be found at https://docs.sympy.org/1.10.1/\n",
      "\n"
     ]
    }
   ],
   "source": [
    "from sympy import init_session\n",
    "init_session(use_latex=\"mathjax\")"
   ]
  },
  {
   "cell_type": "markdown",
   "id": "b6514f4f-edd4-4762-b4e2-c34d810b307c",
   "metadata": {},
   "source": [
    "We want to fit a parabola to 3 points: $(x_0, f_0)$, $(x_1, f_1)$, $(x_2, f_2)$ and then integrate under this fit.  We'll assume that these points are equally spaced.\n",
    "\n",
    "We'll choose a polynomial of the form:\n",
    "\n",
    "$$f(x) = a (x - x_0)^2 + b (x - x_0) + c$$\n",
    "\n",
    "Then evaluating it at the 3 points in our data, we have:\n",
    "\n",
    "\\begin{align*}\n",
    "f_0 &= c \\\\\n",
    "f_1 &= a \\Delta x^2 + b\\Delta x + c \\\\\n",
    "f_2 &= 4 a \\Delta x^2 + 2 b \\Delta x + c\n",
    "\\end{align*}"
   ]
  },
  {
   "cell_type": "markdown",
   "id": "43251415-922b-40fa-aabf-cbb682434689",
   "metadata": {},
   "source": [
    "This is a linear system that we can solve algebraically"
   ]
  },
  {
   "cell_type": "code",
   "execution_count": 3,
   "id": "8c3b0ded-5d1d-474a-a656-281ad98a1b88",
   "metadata": {},
   "outputs": [],
   "source": [
    "a, b, c = symbols(\"a b c\")\n",
    "dx = symbols(\"\\Delta{}x\")\n",
    "f0, f1, f2 = symbols(\"f_0 f_1 f_2\")"
   ]
  },
  {
   "cell_type": "code",
   "execution_count": 5,
   "id": "3ff94b08-42ed-46be-803c-1ccd073108e5",
   "metadata": {},
   "outputs": [
    {
     "data": {
      "image/png": "[encoded data removed]",
      "text/latex": [
       "$\\displaystyle \\left\\{ a : \\frac{f_{0} - 2 f_{1} + f_{2}}{2 \\Delta{}x^{2}}, \\  b : \\frac{- 3 f_{0} + 4 f_{1} - f_{2}}{2 \\Delta{}x}, \\  c : f_{0}\\right\\}$"
      ],
      "text/plain": [
       "⎧   f₀ - 2⋅f₁ + f₂     -3⋅f₀ + 4⋅f₁ - f₂       ⎫\n",
       "⎪a: ──────────────, b: ─────────────────, c: f₀⎪\n",
       "⎨               2         2⋅\\Delta{}x          ⎬\n",
       "⎪    2⋅\\Delta{}x                               ⎪\n",
       "⎩                                              ⎭"
      ]
     },
     "execution_count": 5,
     "metadata": {},
     "output_type": "execute_result"
    }
   ],
   "source": [
    "coeffs = solve([Eq(f0, c),\n",
    "                Eq(f1, a * dx**2 + b * dx + c),\n",
    "                Eq(f2, 4 * a * dx**2 + 2 * b * dx + c)],\n",
    "               [a, b, c])\n",
    "coeffs"
   ]
  },
  {
   "cell_type": "markdown",
   "id": "df63292e-d641-4291-a9d3-b3df08a97a98",
   "metadata": {},
   "source": [
    "This shows that our polynomial is\n",
    "\n",
    "$$f(x) = \\frac{f_0 - 2 f_1 + f_2}{2 \\Delta x^2} (x - x_0)^2 \n",
    "      + \\frac{-3 f_0 + 4 f_1 - f_2}{2 \\Delta x} (x - x_0) + f_0$$"
   ]
  },
  {
   "cell_type": "markdown",
   "id": "c684fd77-53a9-4f1d-a84d-54077e1c0e6e",
   "metadata": {},
   "source": [
    "Now we can integrate under this from $[x_0, x_2]$ (or equivalently $[x_0, x_0 + 2 \\Delta x]$"
   ]
  },
  {
   "cell_type": "code",
   "execution_count": 8,
   "id": "c7d46c47-ee20-44fd-bb84-ef6adf2d63aa",
   "metadata": {},
   "outputs": [],
   "source": [
    "x0 = symbols(\"x_0\")"
   ]
  },
  {
   "cell_type": "code",
   "execution_count": 10,
   "id": "6d96c22d-0266-4b42-bdab-44708c44a244",
   "metadata": {},
   "outputs": [
    {
     "data": {
      "image/png": "[encoded data removed]",
      "text/latex": [
       "$\\displaystyle \\frac{\\Delta{}x \\left(f_{0} + 4 f_{1} + f_{2}\\right)}{3}$"
      ],
      "text/plain": [
       "\\Delta{}x⋅(f₀ + 4⋅f₁ + f₂)\n",
       "──────────────────────────\n",
       "            3             "
      ]
     },
     "execution_count": 10,
     "metadata": {},
     "output_type": "execute_result"
    }
   ],
   "source": [
    "I = integrate(coeffs[a] * (x - x0)**2 + coeffs[b] * (x - x0) + coeffs[c],\n",
    "              [x, x0, x0+2*dx])\n",
    "simplify(I)"
   ]
  },
  {
   "cell_type": "markdown",
   "id": "b7f0cdee-13ab-405c-bdab-fdb67584f827",
   "metadata": {},
   "source": [
    "Compared to the result we got previously for\n",
    "\n",
    "$$I = \\int_a^b f(x) dx \\approx \\frac{b - a}{6} \\left [ f(a) + 4 f\\left(\\frac{a+b}{2}\\right ) + f(b) \\right ]$$\n",
    "\n",
    "we note that these are equivalent, since $b - a = 2 \\Delta x$"
   ]
  },
  {
   "cell_type": "code",
   "execution_count": null,
   "id": "da886d96-ed73-4d98-9ad3-2a67e0c4b24a",
   "metadata": {},
   "outputs": [],
   "source": []
  }
 ],
 "metadata": {
  "kernelspec": {
   "display_name": "Python 3 (ipykernel)",
   "language": "python",
   "name": "python3"
  },
  "language_info": {
   "codemirror_mode": {
    "name": "ipython",
    "version": 3
   },
   "file_extension": ".py",
   "mimetype": "text/x-python",
   "name": "python",
   "nbconvert_exporter": "python",
   "pygments_lexer": "ipython3",
   "version": "3.11.2"
  }
 },
 "nbformat": 4,
 "nbformat_minor": 5
}
