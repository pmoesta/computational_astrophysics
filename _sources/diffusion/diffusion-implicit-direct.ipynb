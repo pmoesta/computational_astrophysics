{
 "cells": [
  {
   "cell_type": "markdown",
   "id": "abd83400-de57-48c0-b37b-49275230328d",
   "metadata": {},
   "source": [
    "# Direct Solve for Implicit Diffusion"
   ]
  },
  {
   "cell_type": "markdown",
   "id": "07511975-a63f-4fa7-bafc-1d11cb1852a7",
   "metadata": {},
   "source": [
    "We'll solve the linear system resulting from our implicit discretization\n",
    "directly:\n",
    "\n",
    "$$\n",
    "\\left (\n",
    "\\begin{array}{ccccccc}\n",
    "1+\\alpha &   -\\alpha &           &        &         &           &          \\\\\n",
    "-\\alpha  & 1+2\\alpha & -\\alpha   &        &         &           &          \\\\\n",
    "         & -\\alpha   & 1+2\\alpha & -\\alpha&         &           &          \\\\\n",
    "         &           & \\ddots    & \\ddots & \\ddots  &           &          \\\\\n",
    "         &           &           & \\ddots & \\ddots  & \\ddots    &          \\\\\n",
    "         &           &           &        & -\\alpha & 1+2\\alpha &-\\alpha   \\\\\n",
    "         &           &           &        &         & -\\alpha   &1+\\alpha \\\\\n",
    "\\end{array}\n",
    "\\right )\n",
    "\\left (\n",
    "\\begin{array}{c}\n",
    "\\phi_\\mathrm{lo}^{n+1} \\\\\n",
    "\\phi_\\mathrm{lo+1}^{n+1} \\\\\n",
    "\\phi_\\mathrm{lo+2}^{n+1} \\\\\n",
    "\\vdots \\\\\n",
    "\\vdots \\\\\n",
    "\\phi_\\mathrm{hi-1}^{n+1} \\\\\n",
    "\\phi_\\mathrm{hi}^{n+1} \\\\\n",
    "\\end{array}\n",
    "\\right )\n",
    "=\n",
    "\\left (\n",
    "\\begin{array}{c}\n",
    "\\phi_\\mathrm{lo}^{n} \\\\\n",
    "\\phi_\\mathrm{lo+1}^{n} \\\\\n",
    "\\phi_\\mathrm{lo+2}^{n} \\\\\n",
    "\\vdots \\\\\n",
    "\\vdots \\\\\n",
    "\\phi_\\mathrm{hi-1}^{n} \\\\\n",
    "\\phi_\\mathrm{hi}^{n} \\\\\n",
    "\\end{array}\n",
    "\\right )\n",
    "$$\n",
    "\n",
    "we'll use the SciPy banded solver to do the linear algebra."
   ]
  },
  {
   "cell_type": "code",
   "execution_count": 1,
   "id": "df6198fa-2ef4-4392-a99a-e5352389ab10",
   "metadata": {
    "tags": []
   },
   "outputs": [],
   "source": [
    "import numpy as np\n",
    "import matplotlib.pyplot as plt"
   ]
  },
  {
   "cell_type": "markdown",
   "id": "a1fe305d-beeb-48f4-aa37-09b983c3cec5",
   "metadata": {},
   "source": [
    "We'll use the same grid class and initial conditions as used with the explicit method."
   ]
  },
  {
   "cell_type": "code",
   "execution_count": 2,
   "id": "c8d1857f-9099-4b2d-ac91-8fe761b0f1ed",
   "metadata": {
    "tags": []
   },
   "outputs": [],
   "source": [
    "class Grid:\n",
    "    \"\"\" a simple class to hold cell-centered finite-difference  /\n",
    "    finite-volume data \"\"\"\n",
    "\n",
    "    def __init__(self, nx, ng, xmin=0.0, xmax=1.0):\n",
    "\n",
    "        self.xmin = xmin\n",
    "        self.xmax = xmax\n",
    "        self.ng = ng\n",
    "        self.nx = nx\n",
    "\n",
    "        # python is zero-based.  Make easy integers to know where the\n",
    "        # real data lives\n",
    "        self.ilo = ng\n",
    "        self.ihi = ng+nx-1\n",
    "\n",
    "        # physical coords -- cell-centered\n",
    "        self.dx = (xmax - xmin)/(nx)\n",
    "        self.x = xmin + (np.arange(nx+2*ng)-ng+0.5)*self.dx\n",
    "\n",
    "        # storage for the solution\n",
    "        self.phi = np.zeros((nx+2*ng), dtype=np.float64)\n",
    "\n",
    "    def scratch_array(self):\n",
    "        \"\"\" return a scratch array dimensioned for our grid \"\"\"\n",
    "        return np.zeros((self.nx+2*self.ng), dtype=np.float64)\n",
    "\n",
    "    def fill_BCs(self):\n",
    "        \"\"\" fill the ghostcells with zero gradient (Neumann)\n",
    "            boundary conditions \"\"\"\n",
    "        self.phi[0:self.ilo] = self.phi[self.ilo]\n",
    "        self.phi[self.ihi+1:] = self.phi[self.ihi]\n",
    "\n",
    "    def norm(self, e):\n",
    "        \"\"\" return the norm of quantity e which lives on the grid \"\"\"\n",
    "        if not len(e) == (2*self.ng + self.nx):\n",
    "            return None\n",
    "\n",
    "        return np.sqrt(self.dx*np.sum(e[self.ilo:self.ihi+1]**2))"
   ]
  },
  {
   "cell_type": "code",
   "execution_count": 3,
   "id": "c075bdee-fdd9-49d6-9978-12bc5db7b382",
   "metadata": {
    "tags": []
   },
   "outputs": [],
   "source": [
    "def gaussian_ic(g, k, t=0.0, t0=1.e-4, phi1=1.0, phi2=2.0):\n",
    "    xc = 0.5*(g.xmin + g.xmax)\n",
    "    return (phi2 - phi1) * (np.sqrt(t0/(t + t0)) *\n",
    "                            np.exp(-0.25 * (g.x - xc)**2 / (k * (t + t0)))) + phi1"
   ]
  },
  {
   "cell_type": "markdown",
   "id": "abfa2e4c-6f63-48d7-b6df-51b60b2df202",
   "metadata": {},
   "source": [
    "## Implementation"
   ]
  },
  {
   "cell_type": "markdown",
   "id": "8d8412de-1dea-4f1a-b54b-a0de30649232",
   "metadata": {},
   "source": [
    "Now, we have a few options for the linear algebra.  We can:\n",
    "\n",
    "* Keep the matrix as sparse and only store the 3 diagonals that have nonzero elements.\n",
    "  We can then use the SciPy [``solve_banded``](https://docs.scipy.org/doc/scipy/reference/generated/scipy.linalg.solve_banded.html) method to solve this.\n",
    "  \n",
    "* Construct the full dense matrix, including all the zeros.  Here, the SciPy\n",
    "  [``sparse.diags``](https://docs.scipy.org/doc/scipy/reference/generated/scipy.sparse.diags.html) method can\n",
    "  be helpful."
   ]
  },
  {
   "cell_type": "markdown",
   "id": "8c5f5c7a-637d-48ad-b645-f56071b9cb4b",
   "metadata": {},
   "source": [
    "We'll write a function to just do a single implicit solve of the system, with the intent that this will be called from the time-evolution loop."
   ]
  },
  {
   "cell_type": "code",
   "execution_count": 4,
   "id": "2efd0289-a199-415c-90b6-bf4dcdde144f",
   "metadata": {
    "tags": []
   },
   "outputs": [],
   "source": [
    "from scipy import linalg"
   ]
  },
  {
   "cell_type": "markdown",
   "id": "ca47c90d-59f7-4630-bd60-df04bfc0b198",
   "metadata": {},
   "source": [
    "From the structure of our matrix, we have a main diagonal, $d$, and an upper ($u$) and lower ($l$) diagonal.  These have the form:\n",
    "\n",
    "$${\\bf d} = (1+\\alpha, 1+2\\alpha, 1+2\\alpha, \\ldots, 1+2\\alpha, 1+\\alpha)$$\n",
    "\n",
    "$${\\bf l} = (-\\alpha, -\\alpha, -\\alpha, \\ldots, -\\alpha, 0)$$\n",
    "\n",
    "$${\\bf u} = (0, -\\alpha, -\\alpha, \\ldots, -\\alpha, -\\alpha)$$\n",
    "\n",
    "Where we keep $l$ and $u$ both to be length $N$, but insert a $0$ for the column where they are not defined.\n",
    "\n",
    "For SciPy, we'll make a matrix that has 3 rows:\n",
    "\n",
    "$${\\bf A} = \\left ( \\begin{array}{c} {\\bf u} \\\\ {\\bf d} \\\\ {\\bf l} \\\\ \\end{array} \\right )$$\n",
    "\n",
    "This will be a $3\\times N$ matrix."
   ]
  },
  {
   "cell_type": "code",
   "execution_count": 5,
   "id": "f1b32c23-b7a5-4936-96d8-8eace589445c",
   "metadata": {
    "tags": []
   },
   "outputs": [],
   "source": [
    "def implicit_step(gr, phi, k, dt):\n",
    "    \"\"\" diffuse phi implicitly through timestep dt \"\"\"\n",
    "\n",
    "    phinew = gr.scratch_array()\n",
    "\n",
    "    alpha = k * dt / gr.dx**2\n",
    "\n",
    "    # create the RHS of the matrix\n",
    "    R = phi[gr.ilo:gr.ihi+1]\n",
    "\n",
    "    # create the diagonal, d+1 and d-1 parts of the matrix\n",
    "    d = (1.0 + 2.0*alpha)*np.ones(gr.nx)\n",
    "\n",
    "    u = -alpha*np.ones(gr.nx)\n",
    "    u[0] = 0.0\n",
    "\n",
    "    l = -alpha*np.ones(gr.nx)\n",
    "    l[-1] = 0.0\n",
    "\n",
    "    # set the boundary conditions by changing the matrix elements\n",
    "\n",
    "    # homogeneous neumann\n",
    "    d[0] = 1.0 + alpha\n",
    "    d[-1] = 1.0 + alpha\n",
    "\n",
    "    # solve\n",
    "    A = np.matrix([u, d, l])\n",
    "\n",
    "    phinew[gr.ilo:gr.ihi+1] = linalg.solve_banded((1, 1), A, R)\n",
    "\n",
    "    return phinew"
   ]
  },
  {
   "cell_type": "markdown",
   "id": "96e70715-f607-4f38-b3f9-5195f01fc68e",
   "metadata": {},
   "source": [
    "Here's the main evolution loop.  It works in the same fashion as our explicit implementation."
   ]
  },
  {
   "cell_type": "code",
   "execution_count": 6,
   "id": "669a1101-47e0-4f1e-8444-5173a2e71154",
   "metadata": {
    "tags": []
   },
   "outputs": [],
   "source": [
    "def diffuse_implicit(nx, k, C, tmax, init_cond):\n",
    "    \"\"\"\n",
    "    the main evolution loop.  Evolve\n",
    "\n",
    "     phi_t = k phi_{xx}\n",
    "\n",
    "    from t = 0 to tmax\n",
    "    \"\"\"\n",
    "\n",
    "    # create the grid\n",
    "    ng = 0\n",
    "    \n",
    "    g = Grid(nx, ng)\n",
    "\n",
    "    # time info\n",
    "    dt = C * 0.5 *g.dx**2 / k\n",
    "    t = 0.0\n",
    "\n",
    "    # initialize the data\n",
    "    g.phi[:] = init_cond(g, k)\n",
    "\n",
    "    while t < tmax:\n",
    "\n",
    "        # make sure we end right at tmax\n",
    "        if t + dt > tmax:\n",
    "            dt = tmax - t\n",
    "\n",
    "        # diffuse for dt\n",
    "        phinew = implicit_step(g, g.phi, k, dt)\n",
    "\n",
    "        g.phi[:] = phinew[:]\n",
    "        t += dt\n",
    "\n",
    "    return g"
   ]
  },
  {
   "cell_type": "markdown",
   "id": "583df102-e733-4068-995e-5db2374df777",
   "metadata": {},
   "source": [
    "## Trends with timestep size\n",
    "\n",
    "Now we can test it out.  Implicit methods are stable for all timesteps, but keep in mind that stability is not the same as accuracy.  Let's vary the timestep size to see what happens."
   ]
  },
  {
   "cell_type": "code",
   "execution_count": 7,
   "id": "023cc19d-0522-4340-9f2f-be131deba9cf",
   "metadata": {
    "tags": []
   },
   "outputs": [],
   "source": [
    "nx = 128\n",
    "\n",
    "k = 1\n",
    "\n",
    "t_diffuse = (1.0/nx)**2 / k"
   ]
  },
  {
   "cell_type": "code",
   "execution_count": 8,
   "id": "1c131915-5ac2-4790-b6b8-ac2e48b8de09",
   "metadata": {
    "tags": []
   },
   "outputs": [
    {
     "data": {
      "text/plain": [
       "<matplotlib.legend.Legend at 0x7f5da241d350>"
      ]
     },
     "execution_count": 8,
     "metadata": {},
     "output_type": "execute_result"
    },
    {
     "data": {
      "image/png": "[encoded data removed]",
      "text/plain": [
       "<Figure size 640x480 with 1 Axes>"
      ]
     },
     "metadata": {},
     "output_type": "display_data"
    }
   ],
   "source": [
    "fig, ax = plt.subplots()\n",
    "\n",
    "tmax = 10 * t_diffuse\n",
    "\n",
    "for C in [0.8, 2, 10]:\n",
    "    g = diffuse_implicit(nx, k, C, tmax, gaussian_ic)\n",
    "    ax.plot(g.x[g.ilo:g.ihi+1], g.phi[g.ilo:g.ihi+1], label=f\"C = {C}\")\n",
    "\n",
    "ax.set_xlim(0.35, 0.65)\n",
    "ax.set_xlabel(\"$x$\")\n",
    "ax.set_ylabel(\"$\\phi$\")\n",
    "\n",
    "ax.set_title(f\"t = {tmax:7.3g}\")\n",
    "ax.legend()"
   ]
  },
  {
   "cell_type": "markdown",
   "id": "343db43c-c26c-4627-a3fc-9936d5fdea92",
   "metadata": {
    "tags": []
   },
   "source": [
    "We see that even at a large value of $C$, the solution remains stable."
   ]
  },
  {
   "cell_type": "markdown",
   "id": "3adbe167-4a8e-47f0-857d-ace74a2c748e",
   "metadata": {},
   "source": [
    "## Convergence\n",
    "\n",
    "Let's look at the convergence of this discretization"
   ]
  },
  {
   "cell_type": "code",
   "execution_count": 9,
   "id": "5366f45b-5158-4745-a4c4-5934c8cf2ba3",
   "metadata": {
    "tags": []
   },
   "outputs": [],
   "source": [
    "nx_reference = 64\n",
    "t_diffuse = (1.0/nx_reference)**2 / k"
   ]
  },
  {
   "cell_type": "code",
   "execution_count": 10,
   "id": "01bab1c0-9335-4c7d-8b72-2269290dc9d3",
   "metadata": {
    "tags": []
   },
   "outputs": [
    {
     "data": {
      "text/plain": [
       "Text(0, 0.5, 'absolute error')"
      ]
     },
     "execution_count": 10,
     "metadata": {},
     "output_type": "execute_result"
    },
    {
     "data": {
      "image/png": "[encoded data removed]",
      "text/plain": [
       "<Figure size 640x480 with 1 Axes>"
      ]
     },
     "metadata": {},
     "output_type": "display_data"
    }
   ],
   "source": [
    "fig, ax = plt.subplots()\n",
    "\n",
    "Ns = [16, 32, 64, 128, 256, 512]\n",
    "dxs = []\n",
    "errors = []\n",
    "\n",
    "tmax = 10 * t_diffuse\n",
    "C = 0.8\n",
    "\n",
    "for nx in Ns:\n",
    "    g = diffuse_implicit(nx, k, C, tmax, gaussian_ic)\n",
    "    phi_analytic = gaussian_ic(g, k, t=tmax)\n",
    "    dxs.append(g.dx)\n",
    "    errors.append(g.norm(g.phi - phi_analytic))\n",
    "    \n",
    "ax.scatter(dxs, errors, marker=\"x\")\n",
    "\n",
    "ideal = errors[-1] * np.array(dxs)**2 / dxs[-1]**2\n",
    "\n",
    "ax.plot(dxs, ideal, color=\"0.5\", ls=\":\", label=r\"$\\mathcal{O}(\\Delta x^2)$\")\n",
    "\n",
    "ax.legend()\n",
    "\n",
    "ax.set_xscale(\"log\")\n",
    "ax.set_yscale(\"log\")\n",
    "\n",
    "ax.set_xlabel(r\"$\\Delta x$\")\n",
    "ax.set_ylabel(\"absolute error\")"
   ]
  },
  {
   "cell_type": "markdown",
   "id": "1aa8ac47-398c-44a5-bd2d-b292a6a8caa4",
   "metadata": {},
   "source": [
    "We see second-order convergence, as with the explicit method.  The errors are _slightly_ higher\n",
    "than the explicit discretion in general, but we do much better at coarse resolutions."
   ]
  }
 ],
 "metadata": {
  "kernelspec": {
   "display_name": "Python 3 (ipykernel)",
   "language": "python",
   "name": "python3"
  },
  "language_info": {
   "codemirror_mode": {
    "name": "ipython",
    "version": 3
   },
   "file_extension": ".py",
   "mimetype": "text/x-python",
   "name": "python",
   "nbconvert_exporter": "python",
   "pygments_lexer": "ipython3",
   "version": "3.11.2"
  }
 },
 "nbformat": 4,
 "nbformat_minor": 5
}
