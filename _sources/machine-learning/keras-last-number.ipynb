{
 "cells": [
  {
   "cell_type": "markdown",
   "id": "a9958ed4-cc30-4e40-8e51-2db365edbc11",
   "metadata": {},
   "source": [
    "# Keras and the Last Number Problem"
   ]
  },
  {
   "cell_type": "markdown",
   "id": "d96e11b2-29ef-4e7c-a8d1-16937c2954d5",
   "metadata": {},
   "source": [
    "Let's see if we can do better than our simple hidden layer NN with the last number problem."
   ]
  },
  {
   "cell_type": "code",
   "execution_count": 3,
   "id": "0beb822d-dcbe-494a-81c2-579ecc6b840d",
   "metadata": {
    "tags": []
   },
   "outputs": [
    {
     "name": "stderr",
     "output_type": "stream",
     "text": [
      "2023-05-02 08:24:38.881568: I tensorflow/tsl/cuda/cudart_stub.cc:28] Could not find cuda drivers on your machine, GPU will not be used.\n",
      "2023-05-02 08:24:38.910368: I tensorflow/tsl/cuda/cudart_stub.cc:28] Could not find cuda drivers on your machine, GPU will not be used.\n",
      "2023-05-02 08:24:38.910877: I tensorflow/core/platform/cpu_feature_guard.cc:182] This TensorFlow binary is optimized to use available CPU instructions in performance-critical operations.\n",
      "To enable the following instructions: AVX2 FMA, in other operations, rebuild TensorFlow with the appropriate compiler flags.\n",
      "2023-05-02 08:24:39.449066: W tensorflow/compiler/tf2tensorrt/utils/py_utils.cc:38] TF-TRT Warning: Could not find TensorRT\n"
     ]
    }
   ],
   "source": [
    "import numpy as np\n",
    "import keras\n",
    "from keras.utils import np_utils"
   ]
  },
  {
   "cell_type": "markdown",
   "id": "6df024e2-b227-4c3f-b8e9-f00ffa647b51",
   "metadata": {},
   "source": [
    "We'll use the same data class"
   ]
  },
  {
   "cell_type": "code",
   "execution_count": 4,
   "id": "ae8a672e-e66f-4d28-bf57-be65e53b5681",
   "metadata": {
    "tags": []
   },
   "outputs": [],
   "source": [
    "class ModelDataCategorical:\n",
    "    \"\"\"this is the model data for our \"last number\" training set.  We\n",
    "    produce input of length N, consisting of numbers 0-9 and store\n",
    "    the result in a 10-element array as categorical data.\n",
    "\n",
    "    \"\"\"\n",
    "    def __init__(self, N=10):\n",
    "        self.N = N\n",
    "        \n",
    "        # our model input data\n",
    "        self.x = np.random.randint(0, high=10, size=N)\n",
    "        self.x_scaled = self.x / 10 + 0.05\n",
    "        \n",
    "        # our scaled model output data\n",
    "        self.y = np.array([self.x[-1]])\n",
    "        self.y_scaled = np.zeros(10) + 0.01\n",
    "        self.y_scaled[self.x[-1]] = 0.99\n",
    "        \n",
    "    def interpret_result(self, out):\n",
    "        \"\"\"take the network output and return the number we predict\"\"\"\n",
    "        return np.argmax(out)"
   ]
  },
  {
   "cell_type": "markdown",
   "id": "8a064ed3-c261-4c32-828c-915ac4a7ab77",
   "metadata": {},
   "source": [
    "For Keras, we need to pack the scaled data (both input and output) into arrays.  We'll use\n",
    "the Keras `np_utils.to_categorical()` to make the data categorical.\n",
    "\n",
    "Let's make both a training set and a test set"
   ]
  },
  {
   "cell_type": "code",
   "execution_count": 6,
   "id": "aefd922f-ed63-41bd-89e1-1bd5c8669f6b",
   "metadata": {
    "tags": []
   },
   "outputs": [],
   "source": [
    "x_train = []\n",
    "y_train = []\n",
    "for _ in range(10000):\n",
    "    m = ModelDataCategorical()\n",
    "    x_train.append(m.x_scaled)\n",
    "    y_train.append(m.y)\n",
    "\n",
    "x_train = np.asarray(x_train)\n",
    "y_train = np_utils.to_categorical(y_train, 10)"
   ]
  },
  {
   "cell_type": "code",
   "execution_count": 7,
   "id": "482c6cba-206c-4a60-9872-1dc49d51e46c",
   "metadata": {
    "tags": []
   },
   "outputs": [],
   "source": [
    "x_test = []\n",
    "y_test = []\n",
    "for _ in range(1000):\n",
    "    m = ModelDataCategorical()\n",
    "    x_test.append(m.x_scaled)\n",
    "    y_test.append(m.y)\n",
    "\n",
    "x_test = np.asarray(x_test)\n",
    "y_test = np_utils.to_categorical(y_test, 10)"
   ]
  },
  {
   "cell_type": "markdown",
   "id": "d10ad009-e74d-4b64-b107-6220d2ea5c20",
   "metadata": {
    "tags": []
   },
   "source": [
    "Check to make sure the data looks like we expect:"
   ]
  },
  {
   "cell_type": "code",
   "execution_count": 10,
   "id": "f7275c7d-fd21-4d66-9d2e-9f68ae8acb01",
   "metadata": {
    "tags": []
   },
   "outputs": [
    {
     "data": {
      "text/plain": [
       "array([0.15, 0.35, 0.35, 0.25, 0.25, 0.55, 0.75, 0.75, 0.95, 0.15])"
      ]
     },
     "execution_count": 10,
     "metadata": {},
     "output_type": "execute_result"
    }
   ],
   "source": [
    "x_train[0]"
   ]
  },
  {
   "cell_type": "code",
   "execution_count": 11,
   "id": "c522238f-bf07-46d6-a443-0b44de7e0205",
   "metadata": {
    "tags": []
   },
   "outputs": [
    {
     "data": {
      "text/plain": [
       "array([0., 1., 0., 0., 0., 0., 0., 0., 0., 0.], dtype=float32)"
      ]
     },
     "execution_count": 11,
     "metadata": {},
     "output_type": "execute_result"
    }
   ],
   "source": [
    "y_train[0]"
   ]
  },
  {
   "cell_type": "markdown",
   "id": "8fcda8ac-1c6a-4dd4-a70f-1cb15da674ed",
   "metadata": {},
   "source": [
    "Now let's build our network.  We'll use just a single hidden layer,\n",
    "but instead of the sigmoid used before, we'll use RELU and the softmax activations."
   ]
  },
  {
   "cell_type": "code",
   "execution_count": 12,
   "id": "b470d81d-45a5-4cbf-88d5-127c65863609",
   "metadata": {
    "tags": []
   },
   "outputs": [],
   "source": [
    "from keras.models import Sequential\n",
    "from keras.layers.core import Dense, Dropout, Activation\n",
    "from tensorflow.keras.optimizers import RMSprop"
   ]
  },
  {
   "cell_type": "code",
   "execution_count": 13,
   "id": "a8e9000e-1fb2-4093-aad7-a1e08a4ae34f",
   "metadata": {
    "tags": []
   },
   "outputs": [],
   "source": [
    "model = Sequential()\n",
    "model.add(Dense(100, input_dim=10, activation=\"relu\"))\n",
    "model.add(Dropout(0.1))\n",
    "model.add(Dense(10, activation=\"softmax\"))"
   ]
  },
  {
   "cell_type": "code",
   "execution_count": 14,
   "id": "f05f856d-1770-4853-bc98-6e3f3b5c209d",
   "metadata": {
    "tags": []
   },
   "outputs": [],
   "source": [
    "rms = RMSprop()\n",
    "model.compile(loss='categorical_crossentropy',\n",
    "              optimizer=rms, metrics=['accuracy'])"
   ]
  },
  {
   "cell_type": "markdown",
   "id": "5112c759-538d-4ecf-8760-57cf54d082e1",
   "metadata": {
    "tags": []
   },
   "source": [
    "Now we can train and test each epoch to see how we do"
   ]
  },
  {
   "cell_type": "code",
   "execution_count": 13,
   "id": "260e8b58-513f-40d3-8b57-9f9760d520e6",
   "metadata": {
    "tags": []
   },
   "outputs": [
    {
     "name": "stdout",
     "output_type": "stream",
     "text": [
      "Epoch 1/100\n",
      "40/40 - 0s - loss: 1.0717 - accuracy: 0.6682 - val_loss: 1.0455 - val_accuracy: 0.7210 - 72ms/epoch - 2ms/step\n",
      "Epoch 2/100\n",
      "40/40 - 0s - loss: 1.0422 - accuracy: 0.6832 - val_loss: 1.0176 - val_accuracy: 0.7890 - 50ms/epoch - 1ms/step\n",
      "Epoch 3/100\n",
      "40/40 - 0s - loss: 1.0140 - accuracy: 0.7036 - val_loss: 0.9844 - val_accuracy: 0.7540 - 51ms/epoch - 1ms/step\n",
      "Epoch 4/100\n",
      "40/40 - 0s - loss: 0.9882 - accuracy: 0.7129 - val_loss: 0.9576 - val_accuracy: 0.8150 - 50ms/epoch - 1ms/step\n",
      "Epoch 5/100\n",
      "40/40 - 0s - loss: 0.9619 - accuracy: 0.7325 - val_loss: 0.9358 - val_accuracy: 0.7930 - 50ms/epoch - 1ms/step\n",
      "Epoch 6/100\n",
      "40/40 - 0s - loss: 0.9370 - accuracy: 0.7417 - val_loss: 0.9178 - val_accuracy: 0.7960 - 51ms/epoch - 1ms/step\n",
      "Epoch 7/100\n",
      "40/40 - 0s - loss: 0.9147 - accuracy: 0.7533 - val_loss: 0.8856 - val_accuracy: 0.8390 - 52ms/epoch - 1ms/step\n",
      "Epoch 8/100\n",
      "40/40 - 0s - loss: 0.8883 - accuracy: 0.7750 - val_loss: 0.8759 - val_accuracy: 0.8050 - 50ms/epoch - 1ms/step\n",
      "Epoch 9/100\n",
      "40/40 - 0s - loss: 0.8677 - accuracy: 0.7869 - val_loss: 0.8385 - val_accuracy: 0.8620 - 50ms/epoch - 1ms/step\n",
      "Epoch 10/100\n",
      "40/40 - 0s - loss: 0.8447 - accuracy: 0.7985 - val_loss: 0.8250 - val_accuracy: 0.8740 - 51ms/epoch - 1ms/step\n",
      "Epoch 11/100\n",
      "40/40 - 0s - loss: 0.8223 - accuracy: 0.8187 - val_loss: 0.7962 - val_accuracy: 0.8900 - 50ms/epoch - 1ms/step\n",
      "Epoch 12/100\n",
      "40/40 - 0s - loss: 0.8005 - accuracy: 0.8307 - val_loss: 0.7702 - val_accuracy: 0.8770 - 51ms/epoch - 1ms/step\n",
      "Epoch 13/100\n",
      "40/40 - 0s - loss: 0.7819 - accuracy: 0.8451 - val_loss: 0.7630 - val_accuracy: 0.9050 - 51ms/epoch - 1ms/step\n",
      "Epoch 14/100\n",
      "40/40 - 0s - loss: 0.7603 - accuracy: 0.8545 - val_loss: 0.7396 - val_accuracy: 0.9430 - 52ms/epoch - 1ms/step\n",
      "Epoch 15/100\n",
      "40/40 - 0s - loss: 0.7433 - accuracy: 0.8655 - val_loss: 0.7216 - val_accuracy: 0.9160 - 49ms/epoch - 1ms/step\n",
      "Epoch 16/100\n",
      "40/40 - 0s - loss: 0.7211 - accuracy: 0.8733 - val_loss: 0.7044 - val_accuracy: 0.9310 - 49ms/epoch - 1ms/step\n",
      "Epoch 17/100\n",
      "40/40 - 0s - loss: 0.7021 - accuracy: 0.8857 - val_loss: 0.6917 - val_accuracy: 0.9140 - 48ms/epoch - 1ms/step\n",
      "Epoch 18/100\n",
      "40/40 - 0s - loss: 0.6813 - accuracy: 0.8992 - val_loss: 0.6558 - val_accuracy: 0.9610 - 48ms/epoch - 1ms/step\n",
      "Epoch 19/100\n",
      "40/40 - 0s - loss: 0.6619 - accuracy: 0.9069 - val_loss: 0.6314 - val_accuracy: 0.9690 - 50ms/epoch - 1ms/step\n",
      "Epoch 20/100\n",
      "40/40 - 0s - loss: 0.6459 - accuracy: 0.9136 - val_loss: 0.6320 - val_accuracy: 0.9470 - 49ms/epoch - 1ms/step\n",
      "Epoch 21/100\n",
      "40/40 - 0s - loss: 0.6268 - accuracy: 0.9189 - val_loss: 0.6050 - val_accuracy: 0.9510 - 50ms/epoch - 1ms/step\n",
      "Epoch 22/100\n",
      "40/40 - 0s - loss: 0.6128 - accuracy: 0.9240 - val_loss: 0.5894 - val_accuracy: 0.9640 - 50ms/epoch - 1ms/step\n",
      "Epoch 23/100\n",
      "40/40 - 0s - loss: 0.5957 - accuracy: 0.9316 - val_loss: 0.5768 - val_accuracy: 0.9460 - 51ms/epoch - 1ms/step\n",
      "Epoch 24/100\n",
      "40/40 - 0s - loss: 0.5779 - accuracy: 0.9373 - val_loss: 0.5567 - val_accuracy: 0.9800 - 52ms/epoch - 1ms/step\n",
      "Epoch 25/100\n",
      "40/40 - 0s - loss: 0.5627 - accuracy: 0.9482 - val_loss: 0.5417 - val_accuracy: 0.9810 - 51ms/epoch - 1ms/step\n",
      "Epoch 26/100\n",
      "40/40 - 0s - loss: 0.5472 - accuracy: 0.9531 - val_loss: 0.5256 - val_accuracy: 0.9850 - 51ms/epoch - 1ms/step\n",
      "Epoch 27/100\n",
      "40/40 - 0s - loss: 0.5310 - accuracy: 0.9565 - val_loss: 0.5142 - val_accuracy: 0.9930 - 48ms/epoch - 1ms/step\n",
      "Epoch 28/100\n",
      "40/40 - 0s - loss: 0.5165 - accuracy: 0.9615 - val_loss: 0.4979 - val_accuracy: 0.9950 - 49ms/epoch - 1ms/step\n",
      "Epoch 29/100\n",
      "40/40 - 0s - loss: 0.5027 - accuracy: 0.9607 - val_loss: 0.4729 - val_accuracy: 0.9950 - 48ms/epoch - 1ms/step\n",
      "Epoch 30/100\n",
      "40/40 - 0s - loss: 0.4878 - accuracy: 0.9678 - val_loss: 0.4705 - val_accuracy: 0.9820 - 50ms/epoch - 1ms/step\n",
      "Epoch 31/100\n",
      "40/40 - 0s - loss: 0.4735 - accuracy: 0.9729 - val_loss: 0.4506 - val_accuracy: 0.9980 - 50ms/epoch - 1ms/step\n",
      "Epoch 32/100\n",
      "40/40 - 0s - loss: 0.4590 - accuracy: 0.9755 - val_loss: 0.4437 - val_accuracy: 0.9950 - 50ms/epoch - 1ms/step\n",
      "Epoch 33/100\n",
      "40/40 - 0s - loss: 0.4456 - accuracy: 0.9788 - val_loss: 0.4208 - val_accuracy: 0.9990 - 49ms/epoch - 1ms/step\n",
      "Epoch 34/100\n",
      "40/40 - 0s - loss: 0.4350 - accuracy: 0.9787 - val_loss: 0.4078 - val_accuracy: 0.9990 - 52ms/epoch - 1ms/step\n",
      "Epoch 35/100\n",
      "40/40 - 0s - loss: 0.4229 - accuracy: 0.9805 - val_loss: 0.3946 - val_accuracy: 1.0000 - 53ms/epoch - 1ms/step\n",
      "Epoch 36/100\n",
      "40/40 - 0s - loss: 0.4086 - accuracy: 0.9849 - val_loss: 0.3866 - val_accuracy: 1.0000 - 52ms/epoch - 1ms/step\n",
      "Epoch 37/100\n",
      "40/40 - 0s - loss: 0.3979 - accuracy: 0.9851 - val_loss: 0.3743 - val_accuracy: 0.9990 - 50ms/epoch - 1ms/step\n",
      "Epoch 38/100\n",
      "40/40 - 0s - loss: 0.3857 - accuracy: 0.9862 - val_loss: 0.3649 - val_accuracy: 1.0000 - 51ms/epoch - 1ms/step\n",
      "Epoch 39/100\n",
      "40/40 - 0s - loss: 0.3732 - accuracy: 0.9867 - val_loss: 0.3580 - val_accuracy: 1.0000 - 51ms/epoch - 1ms/step\n",
      "Epoch 40/100\n",
      "40/40 - 0s - loss: 0.3646 - accuracy: 0.9885 - val_loss: 0.3477 - val_accuracy: 0.9990 - 51ms/epoch - 1ms/step\n",
      "Epoch 41/100\n",
      "40/40 - 0s - loss: 0.3535 - accuracy: 0.9896 - val_loss: 0.3347 - val_accuracy: 0.9990 - 50ms/epoch - 1ms/step\n",
      "Epoch 42/100\n",
      "40/40 - 0s - loss: 0.3409 - accuracy: 0.9926 - val_loss: 0.3221 - val_accuracy: 1.0000 - 53ms/epoch - 1ms/step\n",
      "Epoch 43/100\n",
      "40/40 - 0s - loss: 0.3319 - accuracy: 0.9928 - val_loss: 0.3220 - val_accuracy: 0.9990 - 52ms/epoch - 1ms/step\n",
      "Epoch 44/100\n",
      "40/40 - 0s - loss: 0.3236 - accuracy: 0.9898 - val_loss: 0.2948 - val_accuracy: 1.0000 - 49ms/epoch - 1ms/step\n",
      "Epoch 45/100\n",
      "40/40 - 0s - loss: 0.3122 - accuracy: 0.9935 - val_loss: 0.2882 - val_accuracy: 1.0000 - 50ms/epoch - 1ms/step\n",
      "Epoch 46/100\n",
      "40/40 - 0s - loss: 0.3022 - accuracy: 0.9947 - val_loss: 0.2867 - val_accuracy: 1.0000 - 48ms/epoch - 1ms/step\n",
      "Epoch 47/100\n",
      "40/40 - 0s - loss: 0.2935 - accuracy: 0.9926 - val_loss: 0.2726 - val_accuracy: 1.0000 - 50ms/epoch - 1ms/step\n",
      "Epoch 48/100\n",
      "40/40 - 0s - loss: 0.2831 - accuracy: 0.9947 - val_loss: 0.2601 - val_accuracy: 1.0000 - 51ms/epoch - 1ms/step\n",
      "Epoch 49/100\n",
      "40/40 - 0s - loss: 0.2762 - accuracy: 0.9936 - val_loss: 0.2500 - val_accuracy: 1.0000 - 50ms/epoch - 1ms/step\n",
      "Epoch 50/100\n",
      "40/40 - 0s - loss: 0.2667 - accuracy: 0.9941 - val_loss: 0.2416 - val_accuracy: 1.0000 - 51ms/epoch - 1ms/step\n",
      "Epoch 51/100\n",
      "40/40 - 0s - loss: 0.2588 - accuracy: 0.9950 - val_loss: 0.2482 - val_accuracy: 1.0000 - 53ms/epoch - 1ms/step\n",
      "Epoch 52/100\n",
      "40/40 - 0s - loss: 0.2500 - accuracy: 0.9958 - val_loss: 0.2460 - val_accuracy: 0.9990 - 55ms/epoch - 1ms/step\n",
      "Epoch 53/100\n",
      "40/40 - 0s - loss: 0.2414 - accuracy: 0.9968 - val_loss: 0.2223 - val_accuracy: 1.0000 - 52ms/epoch - 1ms/step\n",
      "Epoch 54/100\n",
      "40/40 - 0s - loss: 0.2345 - accuracy: 0.9963 - val_loss: 0.2159 - val_accuracy: 1.0000 - 51ms/epoch - 1ms/step\n",
      "Epoch 55/100\n",
      "40/40 - 0s - loss: 0.2258 - accuracy: 0.9973 - val_loss: 0.2031 - val_accuracy: 1.0000 - 51ms/epoch - 1ms/step\n",
      "Epoch 56/100\n",
      "40/40 - 0s - loss: 0.2187 - accuracy: 0.9968 - val_loss: 0.1984 - val_accuracy: 1.0000 - 50ms/epoch - 1ms/step\n",
      "Epoch 57/100\n",
      "40/40 - 0s - loss: 0.2113 - accuracy: 0.9968 - val_loss: 0.1961 - val_accuracy: 1.0000 - 53ms/epoch - 1ms/step\n",
      "Epoch 58/100\n",
      "40/40 - 0s - loss: 0.2039 - accuracy: 0.9982 - val_loss: 0.1915 - val_accuracy: 1.0000 - 50ms/epoch - 1ms/step\n",
      "Epoch 59/100\n",
      "40/40 - 0s - loss: 0.1965 - accuracy: 0.9977 - val_loss: 0.1761 - val_accuracy: 1.0000 - 52ms/epoch - 1ms/step\n",
      "Epoch 60/100\n",
      "40/40 - 0s - loss: 0.1896 - accuracy: 0.9978 - val_loss: 0.1704 - val_accuracy: 1.0000 - 52ms/epoch - 1ms/step\n",
      "Epoch 61/100\n",
      "40/40 - 0s - loss: 0.1828 - accuracy: 0.9988 - val_loss: 0.1594 - val_accuracy: 1.0000 - 55ms/epoch - 1ms/step\n",
      "Epoch 62/100\n",
      "40/40 - 0s - loss: 0.1759 - accuracy: 0.9974 - val_loss: 0.1668 - val_accuracy: 1.0000 - 52ms/epoch - 1ms/step\n",
      "Epoch 63/100\n",
      "40/40 - 0s - loss: 0.1702 - accuracy: 0.9983 - val_loss: 0.1489 - val_accuracy: 1.0000 - 51ms/epoch - 1ms/step\n",
      "Epoch 64/100\n",
      "40/40 - 0s - loss: 0.1633 - accuracy: 0.9987 - val_loss: 0.1475 - val_accuracy: 1.0000 - 51ms/epoch - 1ms/step\n",
      "Epoch 65/100\n",
      "40/40 - 0s - loss: 0.1591 - accuracy: 0.9983 - val_loss: 0.1417 - val_accuracy: 1.0000 - 52ms/epoch - 1ms/step\n",
      "Epoch 66/100\n",
      "40/40 - 0s - loss: 0.1530 - accuracy: 0.9988 - val_loss: 0.1387 - val_accuracy: 1.0000 - 51ms/epoch - 1ms/step\n",
      "Epoch 67/100\n",
      "40/40 - 0s - loss: 0.1482 - accuracy: 0.9989 - val_loss: 0.1258 - val_accuracy: 1.0000 - 51ms/epoch - 1ms/step\n",
      "Epoch 68/100\n",
      "40/40 - 0s - loss: 0.1431 - accuracy: 0.9985 - val_loss: 0.1264 - val_accuracy: 1.0000 - 50ms/epoch - 1ms/step\n",
      "Epoch 69/100\n",
      "40/40 - 0s - loss: 0.1376 - accuracy: 0.9982 - val_loss: 0.1148 - val_accuracy: 1.0000 - 50ms/epoch - 1ms/step\n",
      "Epoch 70/100\n",
      "40/40 - 0s - loss: 0.1319 - accuracy: 0.9985 - val_loss: 0.1185 - val_accuracy: 1.0000 - 49ms/epoch - 1ms/step\n",
      "Epoch 71/100\n",
      "40/40 - 0s - loss: 0.1271 - accuracy: 0.9994 - val_loss: 0.1088 - val_accuracy: 1.0000 - 50ms/epoch - 1ms/step\n",
      "Epoch 72/100\n",
      "40/40 - 0s - loss: 0.1228 - accuracy: 0.9989 - val_loss: 0.1002 - val_accuracy: 1.0000 - 50ms/epoch - 1ms/step\n",
      "Epoch 73/100\n",
      "40/40 - 0s - loss: 0.1181 - accuracy: 0.9992 - val_loss: 0.1029 - val_accuracy: 1.0000 - 50ms/epoch - 1ms/step\n",
      "Epoch 74/100\n",
      "40/40 - 0s - loss: 0.1151 - accuracy: 0.9992 - val_loss: 0.0953 - val_accuracy: 1.0000 - 52ms/epoch - 1ms/step\n",
      "Epoch 75/100\n",
      "40/40 - 0s - loss: 0.1100 - accuracy: 0.9990 - val_loss: 0.0917 - val_accuracy: 1.0000 - 51ms/epoch - 1ms/step\n",
      "Epoch 76/100\n",
      "40/40 - 0s - loss: 0.1061 - accuracy: 0.9990 - val_loss: 0.0865 - val_accuracy: 1.0000 - 50ms/epoch - 1ms/step\n",
      "Epoch 77/100\n",
      "40/40 - 0s - loss: 0.1017 - accuracy: 0.9990 - val_loss: 0.0839 - val_accuracy: 1.0000 - 50ms/epoch - 1ms/step\n",
      "Epoch 78/100\n",
      "40/40 - 0s - loss: 0.0986 - accuracy: 0.9990 - val_loss: 0.0805 - val_accuracy: 1.0000 - 52ms/epoch - 1ms/step\n",
      "Epoch 79/100\n",
      "40/40 - 0s - loss: 0.0954 - accuracy: 0.9990 - val_loss: 0.0748 - val_accuracy: 1.0000 - 50ms/epoch - 1ms/step\n",
      "Epoch 80/100\n",
      "40/40 - 0s - loss: 0.0910 - accuracy: 0.9992 - val_loss: 0.0814 - val_accuracy: 1.0000 - 52ms/epoch - 1ms/step\n",
      "Epoch 81/100\n",
      "40/40 - 0s - loss: 0.0882 - accuracy: 0.9995 - val_loss: 0.0712 - val_accuracy: 1.0000 - 51ms/epoch - 1ms/step\n",
      "Epoch 82/100\n",
      "40/40 - 0s - loss: 0.0844 - accuracy: 0.9997 - val_loss: 0.0658 - val_accuracy: 1.0000 - 51ms/epoch - 1ms/step\n",
      "Epoch 83/100\n",
      "40/40 - 0s - loss: 0.0810 - accuracy: 0.9996 - val_loss: 0.0640 - val_accuracy: 1.0000 - 50ms/epoch - 1ms/step\n",
      "Epoch 84/100\n",
      "40/40 - 0s - loss: 0.0772 - accuracy: 0.9999 - val_loss: 0.0601 - val_accuracy: 1.0000 - 51ms/epoch - 1ms/step\n",
      "Epoch 85/100\n",
      "40/40 - 0s - loss: 0.0764 - accuracy: 0.9994 - val_loss: 0.0625 - val_accuracy: 1.0000 - 49ms/epoch - 1ms/step\n",
      "Epoch 86/100\n",
      "40/40 - 0s - loss: 0.0723 - accuracy: 0.9997 - val_loss: 0.0556 - val_accuracy: 1.0000 - 50ms/epoch - 1ms/step\n",
      "Epoch 87/100\n",
      "40/40 - 0s - loss: 0.0701 - accuracy: 0.9995 - val_loss: 0.0521 - val_accuracy: 1.0000 - 52ms/epoch - 1ms/step\n",
      "Epoch 88/100\n",
      "40/40 - 0s - loss: 0.0666 - accuracy: 0.9997 - val_loss: 0.0527 - val_accuracy: 1.0000 - 50ms/epoch - 1ms/step\n",
      "Epoch 89/100\n",
      "40/40 - 0s - loss: 0.0644 - accuracy: 0.9995 - val_loss: 0.0487 - val_accuracy: 1.0000 - 51ms/epoch - 1ms/step\n",
      "Epoch 90/100\n",
      "40/40 - 0s - loss: 0.0627 - accuracy: 0.9991 - val_loss: 0.0448 - val_accuracy: 1.0000 - 51ms/epoch - 1ms/step\n",
      "Epoch 91/100\n",
      "40/40 - 0s - loss: 0.0594 - accuracy: 0.9995 - val_loss: 0.0438 - val_accuracy: 1.0000 - 51ms/epoch - 1ms/step\n",
      "Epoch 92/100\n",
      "40/40 - 0s - loss: 0.0574 - accuracy: 0.9997 - val_loss: 0.0405 - val_accuracy: 1.0000 - 50ms/epoch - 1ms/step\n",
      "Epoch 93/100\n",
      "40/40 - 0s - loss: 0.0554 - accuracy: 0.9996 - val_loss: 0.0431 - val_accuracy: 1.0000 - 50ms/epoch - 1ms/step\n",
      "Epoch 94/100\n",
      "40/40 - 0s - loss: 0.0532 - accuracy: 0.9996 - val_loss: 0.0399 - val_accuracy: 1.0000 - 51ms/epoch - 1ms/step\n",
      "Epoch 95/100\n",
      "40/40 - 0s - loss: 0.0519 - accuracy: 0.9998 - val_loss: 0.0372 - val_accuracy: 1.0000 - 50ms/epoch - 1ms/step\n",
      "Epoch 96/100\n",
      "40/40 - 0s - loss: 0.0498 - accuracy: 0.9997 - val_loss: 0.0361 - val_accuracy: 1.0000 - 52ms/epoch - 1ms/step\n",
      "Epoch 97/100\n",
      "40/40 - 0s - loss: 0.0478 - accuracy: 0.9999 - val_loss: 0.0355 - val_accuracy: 1.0000 - 51ms/epoch - 1ms/step\n",
      "Epoch 98/100\n",
      "40/40 - 0s - loss: 0.0465 - accuracy: 0.9997 - val_loss: 0.0339 - val_accuracy: 1.0000 - 52ms/epoch - 1ms/step\n",
      "Epoch 99/100\n",
      "40/40 - 0s - loss: 0.0446 - accuracy: 0.9999 - val_loss: 0.0304 - val_accuracy: 1.0000 - 52ms/epoch - 1ms/step\n",
      "Epoch 100/100\n",
      "40/40 - 0s - loss: 0.0434 - accuracy: 0.9997 - val_loss: 0.0341 - val_accuracy: 1.0000 - 51ms/epoch - 1ms/step\n"
     ]
    },
    {
     "data": {
      "text/plain": [
       "<keras.callbacks.History at 0x7f63906cd790>"
      ]
     },
     "execution_count": 13,
     "metadata": {},
     "output_type": "execute_result"
    }
   ],
   "source": [
    "epochs = 100\n",
    "batch_size = 256\n",
    "model.fit(x_train, y_train, epochs=epochs, batch_size=batch_size,\n",
    "          validation_data=(x_test, y_test), verbose=2)"
   ]
  },
  {
   "cell_type": "markdown",
   "id": "8df151de-99a0-4781-a79c-34871dfe104e",
   "metadata": {},
   "source": [
    "As we see, the network is essentially perfect now."
   ]
  }
 ],
 "metadata": {
  "kernelspec": {
   "display_name": "Python 3 (ipykernel)",
   "language": "python",
   "name": "python3"
  },
  "language_info": {
   "codemirror_mode": {
    "name": "ipython",
    "version": 3
   },
   "file_extension": ".py",
   "mimetype": "text/x-python",
   "name": "python",
   "nbconvert_exporter": "python",
   "pygments_lexer": "ipython3",
   "version": "3.11.3"
  }
 },
 "nbformat": 4,
 "nbformat_minor": 5
}
